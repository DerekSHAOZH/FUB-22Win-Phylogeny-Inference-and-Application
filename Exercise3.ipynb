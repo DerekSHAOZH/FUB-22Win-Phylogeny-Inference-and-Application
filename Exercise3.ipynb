{
  "nbformat": 4,
  "nbformat_minor": 0,
  "metadata": {
    "colab": {
      "provenance": [],
      "collapsed_sections": [],
      "include_colab_link": true
    },
    "kernelspec": {
      "name": "python3",
      "display_name": "Python 3"
    },
    "language_info": {
      "name": "python"
    }
  },
  "cells": [
    {
      "cell_type": "markdown",
      "metadata": {
        "id": "view-in-github",
        "colab_type": "text"
      },
      "source": [
        "<a href=\"https://colab.research.google.com/github/DerekSHAOZH/FUB-22Win-Phylogeny-Inference-and-Application/blob/main/Exercise3.ipynb\" target=\"_parent\"><img src=\"https://colab.research.google.com/assets/colab-badge.svg\" alt=\"Open In Colab\"/></a>"
      ]
    },
    {
      "cell_type": "markdown",
      "metadata": {
        "id": "o2BifXtHeB55"
      },
      "source": [
        "# Problem 1 (5 points)\n",
        "\n",
        "## Add an attribute to your vertex class where you store DNA sequence. \n",
        "## Add a function to you tree class that reads a DNA sequence alignment from a  fasta file (https://en.wikipedia.org/wiki/FASTA_format), and stores the sequences as attributes in the vertex objects.\n",
        "\n",
        "# Problem 2 (30 points)\n",
        "\n",
        "## Write a function in your tree class that implements the two phases of the Sankoff algorithm. 15 points for each phase.\n",
        "\n",
        "# Problem 3 (15 points)\n",
        "\n",
        "## Use the following newick tree and cost/weight matrix for your analysis\n",
        "$T = ((l_1,l_2),((l_3,l_4),l_5));$\n",
        "\n",
        "$\n",
        "  W =\n",
        "  \\left[ {\\begin{array}{cccc}\n",
        "    W_{A→A} & W_{A→T} & W_{A→G} & W_{A→C}\\\\\n",
        "    W_{T→A} & W_{T→T} & W_{T→G} & W_{T→C}\\\\\n",
        "    W_{G→A} & W_{G→T} & W_{G→G} & W_{G→C}\\\\\n",
        "    W_{C→A} & W_{C→T} & W_{C→G} & W_{C→C}\n",
        "  \\end{array} } \\right]\n",
        "  = \n",
        "  \\left[ {\\begin{array}{cc}\n",
        "    0 & 2 & 1 & 2 \\\\\n",
        "    2 & 0 & 2 & 1 \\\\\n",
        "    1 & 2 & 0 & 2 \\\\\n",
        "    2 & 1 & 2 & 0 \n",
        "  \\end{array} } \\right]\n",
        "$\n",
        "\n",
        "## a) (5 points) Add a function to you tree class that computes the number of parsimony informative sites. How many parsimony informative sites are there in the fasta file Sankoff.fas (https://classroom.google.com/c/NDkwOTk4NjQyMjQx/m/NTY5MjQ0MTY3NDI2/details)\n",
        "\n",
        "## b) (5 points) What is the parsimony score for $T$?\n",
        "\n",
        "## c) (5 points) What is an ancestral sequence at the root?"
      ]
    },
    {
      "cell_type": "code",
      "source": [],
      "metadata": {
        "id": "687KqdLh11kY"
      },
      "execution_count": null,
      "outputs": []
    }
  ]
}