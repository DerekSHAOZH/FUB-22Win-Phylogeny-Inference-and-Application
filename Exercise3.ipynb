{
  "nbformat": 4,
  "nbformat_minor": 0,
  "metadata": {
    "colab": {
      "provenance": [],
      "collapsed_sections": [],
      "include_colab_link": true
    },
    "kernelspec": {
      "name": "python3",
      "display_name": "Python 3"
    },
    "language_info": {
      "name": "python"
    }
  },
  "cells": [
    {
      "cell_type": "markdown",
      "metadata": {
        "id": "view-in-github",
        "colab_type": "text"
      },
      "source": [
        "<a href=\"https://colab.research.google.com/github/DerekSHAOZH/FUB-22Win-Phylogeny-Inference-and-Application/blob/main/Exercise3.ipynb\" target=\"_parent\"><img src=\"https://colab.research.google.com/assets/colab-badge.svg\" alt=\"Open In Colab\"/></a>"
      ]
    },
    {
      "cell_type": "markdown",
      "metadata": {
        "id": "o2BifXtHeB55"
      },
      "source": [
        "# Problem 1 (5 points)\n",
        "\n",
        "## Add an attribute to your vertex class where you store DNA sequence. \n",
        "## Add a function to you tree class that reads a DNA sequence alignment from a  fasta file (https://en.wikipedia.org/wiki/FASTA_format), and stores the sequences as attributes in the vertex objects.\n",
        "\n",
        "# Problem 2 (30 points)\n",
        "\n",
        "## Write a function in your tree class that implements the two phases of the Sankoff algorithm. 15 points for each phase.\n",
        "\n",
        "# Problem 3 (15 points)\n",
        "\n",
        "## Use the following newick tree and cost/weight matrix for your analysis\n",
        "$T = ((l_1,l_2),((l_3,l_4),l_5));$\n",
        "\n",
        "$\n",
        "  W =\n",
        "  \\left[ {\\begin{array}{cccc}\n",
        "    W_{A→A} & W_{A→T} & W_{A→G} & W_{A→C}\\\\\n",
        "    W_{T→A} & W_{T→T} & W_{T→G} & W_{T→C}\\\\\n",
        "    W_{G→A} & W_{G→T} & W_{G→G} & W_{G→C}\\\\\n",
        "    W_{C→A} & W_{C→T} & W_{C→G} & W_{C→C}\n",
        "  \\end{array} } \\right]\n",
        "  = \n",
        "  \\left[ {\\begin{array}{cc}\n",
        "    0 & 2 & 1 & 2 \\\\\n",
        "    2 & 0 & 2 & 1 \\\\\n",
        "    1 & 2 & 0 & 2 \\\\\n",
        "    2 & 1 & 2 & 0 \n",
        "  \\end{array} } \\right]\n",
        "$\n",
        "\n",
        "## a) (5 points) Add a function to you tree class that computes the number of parsimony informative sites. How many parsimony informative sites are there in the fasta file Sankoff.fas (https://classroom.google.com/c/NDkwOTk4NjQyMjQx/m/NTY5MjQ0MTY3NDI2/details)\n",
        "\n",
        "## b) (5 points) What is the parsimony score for $T$?\n",
        "\n",
        "## c) (5 points) What is an ancestral sequence at the root?"
      ]
    },
    {
      "cell_type": "markdown",
      "source": [
        "# Problem 1 (5 points)\n",
        "\n",
        "## Add an attribute to your vertex class where you store DNA sequence. \n",
        "## Add a function to you tree class that reads a DNA sequence alignment from a  fasta file (https://en.wikipedia.org/wiki/FASTA_format), and stores the sequences as attributes in the vertex objects."
      ],
      "metadata": {
        "id": "-zNBEmMRoW7d"
      }
    },
    {
      "cell_type": "code",
      "source": [
        "# TODO: add to Tree class by incorporating into the \"Set_basepair_leaves\" function\n",
        "def parse_FASTA_file(fasta_filename):\n",
        "  with open(fasta_filename,'r') as fasta_file_contents:\n",
        "    s = {}    #dictionary with sequence_ID as key, sequence as value\n",
        "    for line in fasta_file_contents.readlines():\n",
        "      if line.startswith('>'): # new sequence\n",
        "        sequence_ID = ((line.split(\">\")[1]).split(\"_\")[0] + (line.split(\">\")[1]).split(\"_\")[1]).replace(\"\\n\", \"\") #same leaf name as in newick form\n",
        "      #elif line.startswith(';'):\n",
        "      #  continue\n",
        "      else:\n",
        "        s[sequence_ID] = line[0:len(line)-1] #len(line)-1 to get rid of the \"\\n\"\n",
        "    return s"
      ],
      "metadata": {
        "id": "687KqdLh11kY"
      },
      "execution_count": null,
      "outputs": []
    },
    {
      "cell_type": "code",
      "source": [
        "parse_FASTA_file(\"/content/sankoff.fas\")"
      ],
      "metadata": {
        "colab": {
          "base_uri": "https://localhost:8080/"
        },
        "id": "FTKZxCd-l5uY",
        "outputId": "c63af210-8484-44ed-a98a-46b9f65990eb"
      },
      "execution_count": null,
      "outputs": [
        {
          "output_type": "execute_result",
          "data": {
            "text/plain": [
              "{'l1': 'AACCGATTAGTAAGGAGCCCCATCGCCTGTTCTTACCAGTACGGGACCCATCACATTTTGGGTGGCGGTACGTGCTGCCCGCAGACAGTCGAAAAATACGTCAAGCCTGCAATTATTACAACCCAACACGGCTATCGGGCTTTCTGGAAGTTCGCCCGAAGTTGAAGTGCCGACCTTTGCTATACAACTAATCTTCGCCACGACCCATTTAGCATCTACGGGCCATCGAAGAGCCTACCCTTCAGACGTAAAACCAACACGTCGAAGGCATTACATTGTGCAACCATGCCCACATATCAACTTCGCCGTAGGCAGACATGAGATATCTAGCCCTACGGAAAGAGTCTTCGGGAGCAATGCCGCCCTAGGTCTATGCCCATATCATACAAGCTTGATGTTGGGTTCGCTCTGCCTTGCTTCCCCGCGATCCAGCCACTTCTGGTCCTATGCCGGATATACAAATAACTTTATATTAGATTATTACCTACTTAAGGCGGTCAAGGATTTTCGAAGGAATAAGGCAGTCTATTGAGTATGACACTGTCCTTGCAGTGTGCCACCCAACCTCGCTCCGGCCTTGTTAATCTTTCAGCTAGAGATATCGACTTCCACCTGCTCTATAAACATAACCCTGCTCTGGCTTGTCGGTGGGCGTTGCTTCGCTGCTACGAACTGTCAACATGCCAGGATTTATTTTGGGGTGATGCTATAACCCCGTTCCAAACACGACTTGGGCCGGTTTTTTTACTAGATTTGACACTAGGACATTTTGCCCTCCTTTTCCCATATCTCGTAAGTTAAGGGACTAGCTTCTAACGATTACCGTAATAACACGAACCCGGCGAGCAACTCCGCCTAAGATAATCAAAATGAGGAACTATTGGCAGTAAGGAGTCCTTCAATATCGTTCTTTAAACGTGGGTGGACAGTTATCAGGCACGAGCGTCGCGAGGATGTGCTGACGACCAAACAATTTCAACTTTCCGGTTCTCGCCTAATG',\n",
              " 'l2': 'AACCGAGTGGTAAGGAGCCCCATCGCCTGTTCTTACGAGTACGGGACCCATCACATTTTGGGTGGCGGTACGTGCTGCCCGCAGACAGTCGAAAAATACGTCAAGCCTGCAATTATTACAACCCAACACGGCTATCGGGCTTGCTGGAAGTTCGCCCGAAGTTGAGGTGCCGACCTTTGCTATACAACTAATCTTCGCCACGACCCATTTAGCATCTACGGGCCATCGAAGAGCCTACCCTTCAGACGTAAAACCAACACGTCGAAGGCATTACATTGTGCAACCATGCCCACATATCAACTTCGCCGTAGGCAGACATGAGATATCTAGCCCTACGGAAAGAGTCTTAGGGAGCAATGCCGCCCTAGGTCTATGCCCATATCATACAAGCTTGAGGTTGGGTTCGCTCTGCCTTGCTTCCCCGCGATCCAGCCACTTCTGGTCCTATGCCGGATATACAAATAACTTTATATTAGATTATTACCTACTTAAGGCGGTCAAGGATATTCGAAGGATTAAGGCAGTCTATTGAGTATGACACTGTCCTTGCAGTGTGCCACCCAACCTCGCTCCGGCCTTGTTAATATTTCAGCTAGAGGTATCGACTTCCACCTGCTCTATAAGCATAACCCTGCTCTGGCTTGTCGGTGGGCGTTGCTTCGCTGCTACGAACTGTCAACATGCCAGGATTTATTTTGGGGTGATGCTATATCCCCGTTCCAAACACGACTTGGGCCGGTTTTTTTACTAGATTTGACACTAGGACATTTTGCCCTCCTTATCCCATATCTCGTAATTTAAGGGACTAGCTTCTAACGATTACCGTAATAACACGAACCCGGCGAGCAACTCCGCCTAAAATAATCATAATGAGTAACTATTGGCAGTAAGGAGTCCTTCAATAGCGTTCTCTAAACGTGGGTGGACAGTGATCAGGCACGAGCGTCGCGAGGATGTGCTGACGACCATACAATTTCAACTTTCCGGTTCTCGCCTAATG',\n",
              " 'l4': 'AACCGAGTGGTAAGTAGCCCCATCGCCTGTTCTTTCCAGTACGGGACCCATCACATTTTGGGTGGCAGTACGTGCTGCCCGCAGACAGTCGAAAAATACCTCAAGCCCGCACTTATTACAACCCAACGCAGCTATCGGGCTTTCTGGAAGTTCGCCCGAAGTTCAGCTGCCGACCAATGCTATACAACTAATCTTCGACACGACCCATTTAGCATCTACGGGCTATCGAAGAGCCTTCCCTTCAGACGTTAAGCCAACACGTCGAAGGCATTACATTGTGGAACCATGCCCACATATCAACTTCGCCGTAGGCAGACATGAGATATCTAGCCCTACGGAAAGAGTCTTAGGGAGCAATGCCGCCCTAGGTCTATGCCCATATCATACAAGCTTGATGTTAGGTTCTCTCTGCCTTGCTTCCCCGCGATCCAGCCTCTTCTGGTCCTATGCCGGATATACAAATAACTTTATATTAGATTATTACCTATGTAAGGCGCTCAATGATATTCGAAGGATTAAGGCAGTCTAGTGAGTATGACACTGTCCCTGCAGTGTGCCACCCAACCTCGCGCCGGCCTTGTTAATCTTTCAGCTAGAGGTATTGACTTCCACCTGCTCTATAAGCATAACCCTGCTCTGGCTTGTCGGTGGGTGTTGCTTCGGTGATACGCACTGTCAACATGCCAGGATTTATTTTGGGGTTATGCTATAACCCCGTTCCAAACACGACTTGGGCCGGGTTTTTTACTAGATTTGACAGTTCGACATTTTGCCCTCCTTATCCCATATCTCGTAATTTAAGTGACTATCTTGTAACGGTGACCGTAATTACACGAACCCGGTGAGCAACTCCGACTAAGATAATGATAGTCAGTAACTATTGGCAGTAAGGAGTCCTACAATATCGTTCTCTAAACGCCGGTGGACAGTGATCAGGCACAAGCGTCGCGAGGATGCGCTGCCGACCAAACAATCCGAACTTTCCGGTTCTCGCCTGATG',\n",
              " 'l5': 'AACCGAGTGGTAAGTAGCCCCATCGCCTGTTCTTTCCAGTACGGGACCCATCACATTTTGGGTGGCAGTACGTGCTGCCCGCAGACAGTCGAAAAATACCTCAAGCCCGCACTTATTACCACCCAACACATCTATCCGGCTTTCTGGAAGTTCGCCCGAAGTTCAGCTGCCGACCAATGCTATACAACTAATCTTCGACACGACCCATTTAGTATCTACGGGCCATCGAAGAGCCTTCCCTTCAGACGTAAAGCCAACACGTCGAAGGCATTACATGGTGGAACCATGCCCACATATCAACTTCGCCGTAGGCAGACATGAGATATCTAGCCCTACGGAAAGAGTCTTAGGGAGCAATGCCGCCCTAGGTCTATGCCCATATCATACAAGCTTGATGTTGGGTTCTCTCTGCCTTGCTTCCCCGCGATCCAGCCTATTCTGGTCCTATGCCGGATATACAAATAACTTTATATTAGATTATTACCTATTTAAGGCGCTCAATGATATTCGAAGGCTTAAGGCAGTCTAGTGAGTATGACACTGTCCCTGCAGTGTGCCACCCAACCTCGCGCCGGCCTTGTAAATCTTTCAGCTAGAGGTATTGACTTCCACCTGCTCTATAAGCATAACCCTGCTCTGGCTTGTCGGTGGGTGTTGCTTCGGTGATACGCACTGTCAACATGCCAGGATTTATTTTGGGGTTATTCTATAACCCCGTTCCAACCACGACTTGGGCCGGGCTTTTTACTAGATTTGACAGTTCGACATTTTGCCCTCCTTATCCCATATCTCTTAATTTAAGTGACTATCTTGTAACGGTGACCGTAATTACACGAACCCGGCGAGCAACTCCGACTAAGATAATGATAGTCAGTAACTATTGGCAGTAAGGAGTCCTACAATATCGTTCTCTAAACGCCGTTGGACAGTGATCAGGCACAAGCGTCGCGAGGATCCGCTGCCGACCAAACAATCCGAACTTTCCGGTTCTCGCCTGATG',\n",
              " 'l3': 'AACCGAGTGGTAAGTAGCCCCATCGCCAGTTCTTTCCAGTACGGGACGCATCACATTTTGGGTGGCAGTACGTGCTGCCCGCAGACAATCGAAAAATACCTCAAGCCCGCTCTCATTACAACCCAACACAGCTATCGGGCTTTCTGGAAGTTCGCCCGAAGTTCAGGTGCCGACCAATGCTATACAACTAATCTTCGACACGACCCATCGAGCATCTACGGACCATAGAAGAGCCTTCCCTTCAGACGTAAAGCCAACACGTCGAAGGCATTACATTGTGGAACCATGCCCACATATCAACTTCGCCGTAGGCAGACATGAGATATCTAGCCCTACGGTAAGAGTCTTAGGGAGCAATGCCGCCCTAGGTCTATGCCCATATCATACAAGCTTGATGTTGGGTTCTATCTGCCTTGCTTCCCCGCGATGCATCCACTTCTGGTCCTATGCCGGATATACAAATAACTTTATATTAGATTATTACCTACTTAAGGCGGTCAAGGATATTCGAAGGATTAAGGCAGTCTAGTGAGTATGACACTGTCCCTGCAGTGTGCCACCCAACCTCGCGCCGGCCTTGTTAATCTTTCAGCGAGTAGTATTGACTTCCACCTGCTCTATAAGCATAACCCTGCTCTGGCTTGTCGGTGGGTGTTGCTTCGGTGATACGAACTGTCAACATGCCAGGATTTATTTTGGGGTTATGCTATAACCCCGTTCCAAACACGACTTGGGCCGGGTTTTTCACTAGATTAGACACTTCGACATTTTGCCCTCCTTATCCCATATCTCGTAATTTAAGGGACTAGCTTCTAACGGTTACCCTAATTACACGAAGCCGGCGAGCAACTCCGACTAAGATAATCATAGTCGGTAACTATTGGCAGTAAGGAGTCCTACAATATCGTTCTCTAAACGCCGGTGGACAGTGATCAGGCACGAGCGTCGCGAGGATGCGCTGCCGACCAAACAATCCCAACTTTCCGGTTCTCGCCTAATG'}"
            ]
          },
          "metadata": {},
          "execution_count": 5
        }
      ]
    },
    {
      "cell_type": "markdown",
      "source": [
        "# Problem 2 (30 points)\n",
        "\n",
        "## Write a function in your tree class that implements the two phases of the Sankoff algorithm. 15 points for each phase.\n",
        "\n",
        "*Added to the exercise 1 solution code that has been copied below"
      ],
      "metadata": {
        "id": "1-bIjbGmJnkW"
      }
    },
    {
      "cell_type": "code",
      "source": [
        "#weight matrix for Sankoff algorithm\n",
        "W = [[0, 2, 1, 2],\n",
        "     [2, 0, 2, 1],\n",
        "     [1, 2, 0, 2],\n",
        "     [2, 1, 2, 0]]"
      ],
      "metadata": {
        "id": "M4Raak_lziK_"
      },
      "execution_count": null,
      "outputs": []
    },
    {
      "cell_type": "code",
      "source": [
        "#helper function for phase 2 of Sankoff algorithm\n",
        "def get_minindex(inputlist):\n",
        " \n",
        "    #get the minimum value in the list\n",
        "    min_value = min(inputlist)\n",
        " \n",
        "    #return the index of minimum value \n",
        "    min_index = inputlist.index(min_value)\n",
        "    return min_index\n",
        "\n",
        "\n",
        "#dictionary encoding A as 0, C as 1, G as 2, T as 3, and vice versa, for phase 2 of Sankoff algorithm\n",
        "bp_to_num = {'A':0, 'C':1, 'G':2, 'T':3}\n",
        "num_to_bp = {0:'A', 1:'C', 2:'G', 3:'T'}"
      ],
      "metadata": {
        "id": "v6CeHl8UzeNW"
      },
      "execution_count": null,
      "outputs": []
    },
    {
      "cell_type": "code",
      "source": [
        "import re\n",
        "# 1 A and B class definitions and functions\n",
        "inf = float('inf')\n",
        "\n",
        "class Vertex:\n",
        "  def __init__(self,name): \n",
        "    self.name = name\n",
        "    self.in_degree = 0\n",
        "    self.out_degree = 0\n",
        "    self.parent = self\n",
        "    self.children = []\n",
        "    self.neighbors = []\n",
        "    self.newick_label = \"\"\n",
        "    self.base_pair = \"\" #store the sequence\n",
        "    self.costs = [0]*4  #record the costs \n",
        "\n",
        "class Tree:\n",
        "  def __init__(self,name):\n",
        "    self.name = name\n",
        "    self.vertex_map = {}\n",
        "    self.leaf_list = []\n",
        "    self.pre_order_list = []\n",
        "    self.post_order_list = []\n",
        "    self.edge_list_map = {}\n",
        "    self.root = -1\n",
        "    self.total_parsimony = 0  #store the total parsimony scores given sequences\n",
        "  def Add_vertex(self,name):    \n",
        "    v = Vertex(name)\n",
        "    self.vertex_map[name] = v  \n",
        "  def Contains_vertex(self,name):\n",
        "    return (name in self.vertex_map.keys())\n",
        "  def Get_vertex(self,name):\n",
        "    if name in self.vertex_map.keys():\n",
        "      return (self.vertex_map[name])\n",
        "  def Add_directed_edge(self, parent_name, child_name, distance = 0):     #Default branch length set to 0 for Problem 3\n",
        "    if parent_name not in self.vertex_map.keys():\n",
        "      self.Add_vertex(parent_name)\n",
        "    if child_name not in self.vertex_map.keys():\n",
        "      self.Add_vertex(child_name)\n",
        "    p = self.Get_vertex(parent_name)\n",
        "    c = self.Get_vertex(child_name)\n",
        "    p.out_degree += 1\n",
        "    c.in_degree += 1\n",
        "    c.parent = p\n",
        "    p.children.append(c)\n",
        "    self.edge_list_map[(p,c)] = distance\n",
        "  def Get_edge_length(self, parent, child):\n",
        "    return (self.edge_list_map[(parent, child)])\n",
        "  def Set_root(self):\n",
        "    for vertex in self.vertex_map.values():\n",
        "      if vertex.in_degree == 0:\n",
        "        self.root = vertex\n",
        "  def Get_root(self):\n",
        "    if self.root == -1:\n",
        "      self.Set_root()\n",
        "    return (self.root)\n",
        "  def Set_post_order(self):\n",
        "    self.post_order_list = [self.root]\n",
        "    vertices_to_visit = [self.root]\n",
        "    while len(vertices_to_visit) > 0:\n",
        "      v = vertices_to_visit.pop()\n",
        "      vertices_to_visit += v.children      \n",
        "      self.post_order_list = v.children + self.post_order_list\n",
        "  def Set_pre_order(self, root):      #pre-order traversal \n",
        "      if root:\n",
        "          self.pre_order_list.append(root)\n",
        "          if root.out_degree != 0:\n",
        "            self.Set_pre_order(root.children[0])  #recursion\n",
        "            self.Set_pre_order(root.children[1])  #recursion\n",
        "  def Set_basepair_leaves(self, fasta_filename):  #make use of the function defined in Problem 1\n",
        "    leaf_bp_dict = parse_FASTA_file(fasta_filename)\n",
        "    for vertex in self.vertex_map.values():\n",
        "      if vertex.name in leaf_bp_dict.keys():\n",
        "        vertex.base_pair = leaf_bp_dict[vertex.name]\n",
        "        print(f'SET {vertex.name}: {vertex.base_pair}')\n",
        "  def Compute_newick_format(self):\n",
        "    if len(self.post_order_list) != len(self.vertex_map):\n",
        "      self.Set_post_order()\n",
        "    for v in self.post_order_list:\n",
        "      if v.out_degree == 0:\n",
        "        v.newick_label = v.name\n",
        "      else:        \n",
        "        c_l = v.children[0]\n",
        "        c_r = v.children[1]        \n",
        "        len_l = self.Get_edge_length(v,c_l)\n",
        "        len_r = self.Get_edge_length(v,c_r)\n",
        "        v.newick_label = f'({c_l.newick_label}:{len_l},{c_r.newick_label}:{len_r})'\n",
        "    self.root.newick_label += \";\"\n",
        "    return(self.root.newick_label)    \n",
        "  def Read_newick_string(self, newick_string):    \n",
        "    rx = r'\\([^()]+\\)'\n",
        "    hidden_vertex_ind = 1\n",
        "    while \"(\" in newick_string:                  \n",
        "      # search for the parenthesis\n",
        "      m = re.search(rx,newick_string)\n",
        "      # returns a tuple containing all the subgroups of the match \"()\"\n",
        "      string_match = m.group()            \n",
        "      # remove ( and )\n",
        "      siblings_string = string_match[1:-1]\n",
        "      c_left_name_and_length, c_right_name_and_length = siblings_string.split(\",\")\n",
        "      c_left_name, c_left_length = c_left_name_and_length.split(\":\")\n",
        "      c_right_name, c_right_length = c_right_name_and_length.split(\":\")\n",
        "      if not self.Contains_vertex(c_left_name):\n",
        "          self.Add_vertex(c_left_name)\n",
        "      if not self.Contains_vertex(c_right_name):\n",
        "          self.Add_vertex(c_right_name)\n",
        "      hidden_vertex_name = \"h\" + str(hidden_vertex_ind)\n",
        "      self.Add_vertex(hidden_vertex_name)            \n",
        "      self.Add_directed_edge(hidden_vertex_name, c_left_name, float(c_left_length))\n",
        "      self.Add_directed_edge(hidden_vertex_name, c_right_name, float(c_right_length))\n",
        "      newick_string = newick_string.replace(string_match,hidden_vertex_name)\n",
        "      hidden_vertex_ind += 1 \n",
        "\n",
        "  def Read_newick_string_without_length(self, newick_string):    #Read the newich form without branch length specified in Problem 3\n",
        "    rx = r'\\([^()]+\\)'\n",
        "    hidden_vertex_ind = 1\n",
        "    while \"(\" in newick_string:                  \n",
        "      # search for the parenthesis\n",
        "      m = re.search(rx,newick_string)\n",
        "      # returns a tuple containing all the subgroups of the match \"()\"\n",
        "      string_match = m.group()            \n",
        "      # remove ( and )\n",
        "      siblings_string = string_match[1:-1]\n",
        "      \n",
        "      c_left_name, c_right_name = siblings_string.split(\",\")\n",
        "\n",
        "      if not self.Contains_vertex(c_left_name):\n",
        "          self.Add_vertex(c_left_name)\n",
        "      if not self.Contains_vertex(c_right_name):\n",
        "          self.Add_vertex(c_right_name)\n",
        "      hidden_vertex_name = \"h\" + str(hidden_vertex_ind)\n",
        "      self.Add_vertex(hidden_vertex_name)            \n",
        "      \n",
        "      self.Add_directed_edge(hidden_vertex_name, c_left_name)\n",
        "\n",
        "      self.Add_directed_edge(hidden_vertex_name, c_right_name)\n",
        "      newick_string = newick_string.replace(string_match,hidden_vertex_name)\n",
        "      hidden_vertex_ind += 1  \n",
        "\n",
        "  def Num_informative(self):  ###Problem 3(a)\n",
        "    sequences = []\n",
        "    for vertex in self.vertex_map.values():\n",
        "      if vertex.out_degree == 0:\n",
        "        sequences.append(vertex.base_pair)  #gather aligned sequences in a list\n",
        "  \n",
        "    bool_informative = [0]*len(sequences[0]) #a boolean list with 1 indicating informative\n",
        "    for i in range(len(sequences[0])):       #iterate over the length of sequence\n",
        "      freq = {'A':0, 'T':0, 'C':0, 'G':0}    #keep track of the frequency of each bp in sequences\n",
        "      for j in range(len(sequences)):\n",
        "        freq[sequences[j][i]] += 1\n",
        "      if sum(i >= 2 for i in freq.values()) >= 2: # count # of frequencies that are larger than 2\n",
        "        bool_informative[i] = 1 # if # > 2, then record i\n",
        "  \n",
        "    num_informative = sum(bool_informative)  \n",
        "    return num_informative\n",
        "\n",
        "  def sankOff(self, W):          ###Problem 2\n",
        "\n",
        "    #get the length of given sequences\n",
        "    seq_length = 0\n",
        "    for v in self.vertex_map.values():\n",
        "      if v.out_degree == 0:\n",
        "        seq_length = len(v.base_pair)\n",
        "        break\n",
        "        \n",
        "    self.Set_root()\n",
        "    self.Set_post_order()\n",
        "    self.Set_pre_order(self.Get_root())\n",
        "\n",
        "    leaf_costs = {\n",
        "      'A': [0, inf, inf, inf],\n",
        "      'C': [inf, 0, inf, inf],\n",
        "      'G': [inf, inf, 0, inf],\n",
        "      'T': [inf, inf, inf, 0],\n",
        "    } \n",
        "\n",
        "    #iterate over the length of sequence to calculate parsimony for each bp\n",
        "    for k in range(seq_length):\n",
        "\n",
        "      #Phase 1\n",
        "      for v in self.post_order_list:\n",
        "        if len(v.children) == 0: #if vertex is a leaf\n",
        "          leaf_cost = leaf_costs[v.base_pair[k]]\n",
        "          v.costs = leaf_cost  #then we assign [0 inf] to leaves\n",
        "        else:\n",
        "          v.costs = [0]*4      #re-initiate the cost list after each iteration\n",
        "\n",
        "          for i in range(0, 4):\n",
        "            for c in v.children:\n",
        "              children_plus_W = [sum(x) for x in zip(c.costs, W[i])]   \n",
        "              child_cost = min(children_plus_W)\n",
        "              v.costs[i] += child_cost\n",
        "          \n",
        "      #Phase 2\n",
        "      for v in self.pre_order_list:\n",
        "        if v.out_degree != 0: #if v is hidden vertex\n",
        "          if v.in_degree == 0:  #if v is root\n",
        "            v.base_pair += num_to_bp[get_minindex(v.costs)]        #in case of k-length sequences\n",
        "            # v.base_pair = num_to_bp[get_minindex(v.costs)]          #in case of single base pair\n",
        "            T.total_parsimony += min(v.costs)\n",
        "\n",
        "          else: #if v is internal hidden vertex\n",
        "            p = v.parent\n",
        "            p_bp = v.parent.base_pair[k]        #in case of k-length sequences\n",
        "            # p_bp = v.parent.base_pair            #in case of single base pair\n",
        "            parent_plus_W = [sum(x) for x in zip(v.costs, W[bp_to_num[p_bp]])]\n",
        "            v.base_pair += num_to_bp[get_minindex(parent_plus_W)]        #in case of k-length sequences\n",
        "            # v.base_pair = num_to_bp[get_minindex(parent_plus_W)]          #in case of single base pair\n",
        "\n"
      ],
      "metadata": {
        "id": "LGykj6kvn2jj"
      },
      "execution_count": null,
      "outputs": []
    },
    {
      "cell_type": "markdown",
      "source": [
        "## Sankoff algorithm: phase 1\n",
        "\n",
        "_Compute costs for subtrees in postorder_\n",
        "\n",
        "$$S_i(x) = \\begin{cases}\n",
        "[0, \\infty, \\infty, \\infty] &  \\\\\n",
        "\\min_y[W_{x \\to y} + S_j(y)] + \\min_z[W_{x \\to z} + S_k(z)] & \n",
        "\\end{cases}$$\n",
        "\n",
        "if $i$ is a leaf and $A$ is observed, where $j$ and $k$ are children of $i$"
      ],
      "metadata": {
        "id": "kPt0NqdaK5yC"
      }
    },
    {
      "cell_type": "markdown",
      "source": [
        "## Sankoff algorithm: phase 2\n",
        "\n",
        "Assign ancestral characters $C_i$ in preorder such that total mutation cost is minimized\n",
        "\n",
        "$$C_i = \\begin{cases}\n",
        "\\min_x[S_i(x)] & \\text{ if } i \\text{ is the root} \\\\\n",
        "\\min_y[W_{x \\to y} + S_i(y)] & \\text{ where } x \\text{ is the character in the parent of } i\n",
        "\\end{cases}$$"
      ],
      "metadata": {
        "id": "K1qCJ5POMJ8S"
      }
    },
    {
      "cell_type": "markdown",
      "source": [
        "#Problem 3\n",
        "##a) (5 points) Add a function to you tree class that computes the number of parsimony informative sites. How many parsimony informative sites are there in the fasta file Sankoff.fas (https://classroom.google.com/c/NDkwOTk4NjQyMjQx/m/NTY5MjQ0MTY3NDI2/details)\n"
      ],
      "metadata": {
        "id": "yvHO3DeuVJNa"
      }
    },
    {
      "cell_type": "code",
      "source": [
        "T = Tree(\"T\")\n",
        "T.Read_newick_string_without_length('((l1,l2),((l3,l4),l5));')\n",
        "\n",
        "for v in T.vertex_map.values():\n",
        "  print (f'vertex {v.name} has in-degree {v.in_degree} and out-degree {v.out_degree}')\n",
        "\n"
      ],
      "metadata": {
        "colab": {
          "base_uri": "https://localhost:8080/"
        },
        "id": "fcsSH7rwVMht",
        "outputId": "d6b79bee-f315-4f92-c296-b54c193b850a"
      },
      "execution_count": null,
      "outputs": [
        {
          "output_type": "stream",
          "name": "stdout",
          "text": [
            "vertex l1 has in-degree 1 and out-degree 0\n",
            "vertex l2 has in-degree 1 and out-degree 0\n",
            "vertex h1 has in-degree 1 and out-degree 2\n",
            "vertex l3 has in-degree 1 and out-degree 0\n",
            "vertex l4 has in-degree 1 and out-degree 0\n",
            "vertex h2 has in-degree 1 and out-degree 2\n",
            "vertex l5 has in-degree 1 and out-degree 0\n",
            "vertex h3 has in-degree 1 and out-degree 2\n",
            "vertex h4 has in-degree 0 and out-degree 2\n"
          ]
        }
      ]
    },
    {
      "cell_type": "code",
      "source": [
        "T.Set_basepair_leaves('sankoff.fas')\n",
        "\n",
        "for v in T.vertex_map.values():\n",
        "  print (f'{v.name} has a sequence {v.base_pair}')\n"
      ],
      "metadata": {
        "colab": {
          "base_uri": "https://localhost:8080/"
        },
        "id": "8VgNbSf1ZrY1",
        "outputId": "3ace3f89-ae02-4888-8703-f716e7c64db9"
      },
      "execution_count": null,
      "outputs": [
        {
          "output_type": "stream",
          "name": "stdout",
          "text": [
            "SET l1: AACCGATTAGTAAGGAGCCCCATCGCCTGTTCTTACCAGTACGGGACCCATCACATTTTGGGTGGCGGTACGTGCTGCCCGCAGACAGTCGAAAAATACGTCAAGCCTGCAATTATTACAACCCAACACGGCTATCGGGCTTTCTGGAAGTTCGCCCGAAGTTGAAGTGCCGACCTTTGCTATACAACTAATCTTCGCCACGACCCATTTAGCATCTACGGGCCATCGAAGAGCCTACCCTTCAGACGTAAAACCAACACGTCGAAGGCATTACATTGTGCAACCATGCCCACATATCAACTTCGCCGTAGGCAGACATGAGATATCTAGCCCTACGGAAAGAGTCTTCGGGAGCAATGCCGCCCTAGGTCTATGCCCATATCATACAAGCTTGATGTTGGGTTCGCTCTGCCTTGCTTCCCCGCGATCCAGCCACTTCTGGTCCTATGCCGGATATACAAATAACTTTATATTAGATTATTACCTACTTAAGGCGGTCAAGGATTTTCGAAGGAATAAGGCAGTCTATTGAGTATGACACTGTCCTTGCAGTGTGCCACCCAACCTCGCTCCGGCCTTGTTAATCTTTCAGCTAGAGATATCGACTTCCACCTGCTCTATAAACATAACCCTGCTCTGGCTTGTCGGTGGGCGTTGCTTCGCTGCTACGAACTGTCAACATGCCAGGATTTATTTTGGGGTGATGCTATAACCCCGTTCCAAACACGACTTGGGCCGGTTTTTTTACTAGATTTGACACTAGGACATTTTGCCCTCCTTTTCCCATATCTCGTAAGTTAAGGGACTAGCTTCTAACGATTACCGTAATAACACGAACCCGGCGAGCAACTCCGCCTAAGATAATCAAAATGAGGAACTATTGGCAGTAAGGAGTCCTTCAATATCGTTCTTTAAACGTGGGTGGACAGTTATCAGGCACGAGCGTCGCGAGGATGTGCTGACGACCAAACAATTTCAACTTTCCGGTTCTCGCCTAATG\n",
            "SET l2: AACCGAGTGGTAAGGAGCCCCATCGCCTGTTCTTACGAGTACGGGACCCATCACATTTTGGGTGGCGGTACGTGCTGCCCGCAGACAGTCGAAAAATACGTCAAGCCTGCAATTATTACAACCCAACACGGCTATCGGGCTTGCTGGAAGTTCGCCCGAAGTTGAGGTGCCGACCTTTGCTATACAACTAATCTTCGCCACGACCCATTTAGCATCTACGGGCCATCGAAGAGCCTACCCTTCAGACGTAAAACCAACACGTCGAAGGCATTACATTGTGCAACCATGCCCACATATCAACTTCGCCGTAGGCAGACATGAGATATCTAGCCCTACGGAAAGAGTCTTAGGGAGCAATGCCGCCCTAGGTCTATGCCCATATCATACAAGCTTGAGGTTGGGTTCGCTCTGCCTTGCTTCCCCGCGATCCAGCCACTTCTGGTCCTATGCCGGATATACAAATAACTTTATATTAGATTATTACCTACTTAAGGCGGTCAAGGATATTCGAAGGATTAAGGCAGTCTATTGAGTATGACACTGTCCTTGCAGTGTGCCACCCAACCTCGCTCCGGCCTTGTTAATATTTCAGCTAGAGGTATCGACTTCCACCTGCTCTATAAGCATAACCCTGCTCTGGCTTGTCGGTGGGCGTTGCTTCGCTGCTACGAACTGTCAACATGCCAGGATTTATTTTGGGGTGATGCTATATCCCCGTTCCAAACACGACTTGGGCCGGTTTTTTTACTAGATTTGACACTAGGACATTTTGCCCTCCTTATCCCATATCTCGTAATTTAAGGGACTAGCTTCTAACGATTACCGTAATAACACGAACCCGGCGAGCAACTCCGCCTAAAATAATCATAATGAGTAACTATTGGCAGTAAGGAGTCCTTCAATAGCGTTCTCTAAACGTGGGTGGACAGTGATCAGGCACGAGCGTCGCGAGGATGTGCTGACGACCATACAATTTCAACTTTCCGGTTCTCGCCTAATG\n",
            "SET l3: AACCGAGTGGTAAGTAGCCCCATCGCCAGTTCTTTCCAGTACGGGACGCATCACATTTTGGGTGGCAGTACGTGCTGCCCGCAGACAATCGAAAAATACCTCAAGCCCGCTCTCATTACAACCCAACACAGCTATCGGGCTTTCTGGAAGTTCGCCCGAAGTTCAGGTGCCGACCAATGCTATACAACTAATCTTCGACACGACCCATCGAGCATCTACGGACCATAGAAGAGCCTTCCCTTCAGACGTAAAGCCAACACGTCGAAGGCATTACATTGTGGAACCATGCCCACATATCAACTTCGCCGTAGGCAGACATGAGATATCTAGCCCTACGGTAAGAGTCTTAGGGAGCAATGCCGCCCTAGGTCTATGCCCATATCATACAAGCTTGATGTTGGGTTCTATCTGCCTTGCTTCCCCGCGATGCATCCACTTCTGGTCCTATGCCGGATATACAAATAACTTTATATTAGATTATTACCTACTTAAGGCGGTCAAGGATATTCGAAGGATTAAGGCAGTCTAGTGAGTATGACACTGTCCCTGCAGTGTGCCACCCAACCTCGCGCCGGCCTTGTTAATCTTTCAGCGAGTAGTATTGACTTCCACCTGCTCTATAAGCATAACCCTGCTCTGGCTTGTCGGTGGGTGTTGCTTCGGTGATACGAACTGTCAACATGCCAGGATTTATTTTGGGGTTATGCTATAACCCCGTTCCAAACACGACTTGGGCCGGGTTTTTCACTAGATTAGACACTTCGACATTTTGCCCTCCTTATCCCATATCTCGTAATTTAAGGGACTAGCTTCTAACGGTTACCCTAATTACACGAAGCCGGCGAGCAACTCCGACTAAGATAATCATAGTCGGTAACTATTGGCAGTAAGGAGTCCTACAATATCGTTCTCTAAACGCCGGTGGACAGTGATCAGGCACGAGCGTCGCGAGGATGCGCTGCCGACCAAACAATCCCAACTTTCCGGTTCTCGCCTAATG\n",
            "SET l4: AACCGAGTGGTAAGTAGCCCCATCGCCTGTTCTTTCCAGTACGGGACCCATCACATTTTGGGTGGCAGTACGTGCTGCCCGCAGACAGTCGAAAAATACCTCAAGCCCGCACTTATTACAACCCAACGCAGCTATCGGGCTTTCTGGAAGTTCGCCCGAAGTTCAGCTGCCGACCAATGCTATACAACTAATCTTCGACACGACCCATTTAGCATCTACGGGCTATCGAAGAGCCTTCCCTTCAGACGTTAAGCCAACACGTCGAAGGCATTACATTGTGGAACCATGCCCACATATCAACTTCGCCGTAGGCAGACATGAGATATCTAGCCCTACGGAAAGAGTCTTAGGGAGCAATGCCGCCCTAGGTCTATGCCCATATCATACAAGCTTGATGTTAGGTTCTCTCTGCCTTGCTTCCCCGCGATCCAGCCTCTTCTGGTCCTATGCCGGATATACAAATAACTTTATATTAGATTATTACCTATGTAAGGCGCTCAATGATATTCGAAGGATTAAGGCAGTCTAGTGAGTATGACACTGTCCCTGCAGTGTGCCACCCAACCTCGCGCCGGCCTTGTTAATCTTTCAGCTAGAGGTATTGACTTCCACCTGCTCTATAAGCATAACCCTGCTCTGGCTTGTCGGTGGGTGTTGCTTCGGTGATACGCACTGTCAACATGCCAGGATTTATTTTGGGGTTATGCTATAACCCCGTTCCAAACACGACTTGGGCCGGGTTTTTTACTAGATTTGACAGTTCGACATTTTGCCCTCCTTATCCCATATCTCGTAATTTAAGTGACTATCTTGTAACGGTGACCGTAATTACACGAACCCGGTGAGCAACTCCGACTAAGATAATGATAGTCAGTAACTATTGGCAGTAAGGAGTCCTACAATATCGTTCTCTAAACGCCGGTGGACAGTGATCAGGCACAAGCGTCGCGAGGATGCGCTGCCGACCAAACAATCCGAACTTTCCGGTTCTCGCCTGATG\n",
            "SET l5: AACCGAGTGGTAAGTAGCCCCATCGCCTGTTCTTTCCAGTACGGGACCCATCACATTTTGGGTGGCAGTACGTGCTGCCCGCAGACAGTCGAAAAATACCTCAAGCCCGCACTTATTACCACCCAACACATCTATCCGGCTTTCTGGAAGTTCGCCCGAAGTTCAGCTGCCGACCAATGCTATACAACTAATCTTCGACACGACCCATTTAGTATCTACGGGCCATCGAAGAGCCTTCCCTTCAGACGTAAAGCCAACACGTCGAAGGCATTACATGGTGGAACCATGCCCACATATCAACTTCGCCGTAGGCAGACATGAGATATCTAGCCCTACGGAAAGAGTCTTAGGGAGCAATGCCGCCCTAGGTCTATGCCCATATCATACAAGCTTGATGTTGGGTTCTCTCTGCCTTGCTTCCCCGCGATCCAGCCTATTCTGGTCCTATGCCGGATATACAAATAACTTTATATTAGATTATTACCTATTTAAGGCGCTCAATGATATTCGAAGGCTTAAGGCAGTCTAGTGAGTATGACACTGTCCCTGCAGTGTGCCACCCAACCTCGCGCCGGCCTTGTAAATCTTTCAGCTAGAGGTATTGACTTCCACCTGCTCTATAAGCATAACCCTGCTCTGGCTTGTCGGTGGGTGTTGCTTCGGTGATACGCACTGTCAACATGCCAGGATTTATTTTGGGGTTATTCTATAACCCCGTTCCAACCACGACTTGGGCCGGGCTTTTTACTAGATTTGACAGTTCGACATTTTGCCCTCCTTATCCCATATCTCTTAATTTAAGTGACTATCTTGTAACGGTGACCGTAATTACACGAACCCGGCGAGCAACTCCGACTAAGATAATGATAGTCAGTAACTATTGGCAGTAAGGAGTCCTACAATATCGTTCTCTAAACGCCGTTGGACAGTGATCAGGCACAAGCGTCGCGAGGATCCGCTGCCGACCAAACAATCCGAACTTTCCGGTTCTCGCCTGATG\n",
            "l1 has a sequence AACCGATTAGTAAGGAGCCCCATCGCCTGTTCTTACCAGTACGGGACCCATCACATTTTGGGTGGCGGTACGTGCTGCCCGCAGACAGTCGAAAAATACGTCAAGCCTGCAATTATTACAACCCAACACGGCTATCGGGCTTTCTGGAAGTTCGCCCGAAGTTGAAGTGCCGACCTTTGCTATACAACTAATCTTCGCCACGACCCATTTAGCATCTACGGGCCATCGAAGAGCCTACCCTTCAGACGTAAAACCAACACGTCGAAGGCATTACATTGTGCAACCATGCCCACATATCAACTTCGCCGTAGGCAGACATGAGATATCTAGCCCTACGGAAAGAGTCTTCGGGAGCAATGCCGCCCTAGGTCTATGCCCATATCATACAAGCTTGATGTTGGGTTCGCTCTGCCTTGCTTCCCCGCGATCCAGCCACTTCTGGTCCTATGCCGGATATACAAATAACTTTATATTAGATTATTACCTACTTAAGGCGGTCAAGGATTTTCGAAGGAATAAGGCAGTCTATTGAGTATGACACTGTCCTTGCAGTGTGCCACCCAACCTCGCTCCGGCCTTGTTAATCTTTCAGCTAGAGATATCGACTTCCACCTGCTCTATAAACATAACCCTGCTCTGGCTTGTCGGTGGGCGTTGCTTCGCTGCTACGAACTGTCAACATGCCAGGATTTATTTTGGGGTGATGCTATAACCCCGTTCCAAACACGACTTGGGCCGGTTTTTTTACTAGATTTGACACTAGGACATTTTGCCCTCCTTTTCCCATATCTCGTAAGTTAAGGGACTAGCTTCTAACGATTACCGTAATAACACGAACCCGGCGAGCAACTCCGCCTAAGATAATCAAAATGAGGAACTATTGGCAGTAAGGAGTCCTTCAATATCGTTCTTTAAACGTGGGTGGACAGTTATCAGGCACGAGCGTCGCGAGGATGTGCTGACGACCAAACAATTTCAACTTTCCGGTTCTCGCCTAATG\n",
            "l2 has a sequence AACCGAGTGGTAAGGAGCCCCATCGCCTGTTCTTACGAGTACGGGACCCATCACATTTTGGGTGGCGGTACGTGCTGCCCGCAGACAGTCGAAAAATACGTCAAGCCTGCAATTATTACAACCCAACACGGCTATCGGGCTTGCTGGAAGTTCGCCCGAAGTTGAGGTGCCGACCTTTGCTATACAACTAATCTTCGCCACGACCCATTTAGCATCTACGGGCCATCGAAGAGCCTACCCTTCAGACGTAAAACCAACACGTCGAAGGCATTACATTGTGCAACCATGCCCACATATCAACTTCGCCGTAGGCAGACATGAGATATCTAGCCCTACGGAAAGAGTCTTAGGGAGCAATGCCGCCCTAGGTCTATGCCCATATCATACAAGCTTGAGGTTGGGTTCGCTCTGCCTTGCTTCCCCGCGATCCAGCCACTTCTGGTCCTATGCCGGATATACAAATAACTTTATATTAGATTATTACCTACTTAAGGCGGTCAAGGATATTCGAAGGATTAAGGCAGTCTATTGAGTATGACACTGTCCTTGCAGTGTGCCACCCAACCTCGCTCCGGCCTTGTTAATATTTCAGCTAGAGGTATCGACTTCCACCTGCTCTATAAGCATAACCCTGCTCTGGCTTGTCGGTGGGCGTTGCTTCGCTGCTACGAACTGTCAACATGCCAGGATTTATTTTGGGGTGATGCTATATCCCCGTTCCAAACACGACTTGGGCCGGTTTTTTTACTAGATTTGACACTAGGACATTTTGCCCTCCTTATCCCATATCTCGTAATTTAAGGGACTAGCTTCTAACGATTACCGTAATAACACGAACCCGGCGAGCAACTCCGCCTAAAATAATCATAATGAGTAACTATTGGCAGTAAGGAGTCCTTCAATAGCGTTCTCTAAACGTGGGTGGACAGTGATCAGGCACGAGCGTCGCGAGGATGTGCTGACGACCATACAATTTCAACTTTCCGGTTCTCGCCTAATG\n",
            "h1 has a sequence \n",
            "l3 has a sequence AACCGAGTGGTAAGTAGCCCCATCGCCAGTTCTTTCCAGTACGGGACGCATCACATTTTGGGTGGCAGTACGTGCTGCCCGCAGACAATCGAAAAATACCTCAAGCCCGCTCTCATTACAACCCAACACAGCTATCGGGCTTTCTGGAAGTTCGCCCGAAGTTCAGGTGCCGACCAATGCTATACAACTAATCTTCGACACGACCCATCGAGCATCTACGGACCATAGAAGAGCCTTCCCTTCAGACGTAAAGCCAACACGTCGAAGGCATTACATTGTGGAACCATGCCCACATATCAACTTCGCCGTAGGCAGACATGAGATATCTAGCCCTACGGTAAGAGTCTTAGGGAGCAATGCCGCCCTAGGTCTATGCCCATATCATACAAGCTTGATGTTGGGTTCTATCTGCCTTGCTTCCCCGCGATGCATCCACTTCTGGTCCTATGCCGGATATACAAATAACTTTATATTAGATTATTACCTACTTAAGGCGGTCAAGGATATTCGAAGGATTAAGGCAGTCTAGTGAGTATGACACTGTCCCTGCAGTGTGCCACCCAACCTCGCGCCGGCCTTGTTAATCTTTCAGCGAGTAGTATTGACTTCCACCTGCTCTATAAGCATAACCCTGCTCTGGCTTGTCGGTGGGTGTTGCTTCGGTGATACGAACTGTCAACATGCCAGGATTTATTTTGGGGTTATGCTATAACCCCGTTCCAAACACGACTTGGGCCGGGTTTTTCACTAGATTAGACACTTCGACATTTTGCCCTCCTTATCCCATATCTCGTAATTTAAGGGACTAGCTTCTAACGGTTACCCTAATTACACGAAGCCGGCGAGCAACTCCGACTAAGATAATCATAGTCGGTAACTATTGGCAGTAAGGAGTCCTACAATATCGTTCTCTAAACGCCGGTGGACAGTGATCAGGCACGAGCGTCGCGAGGATGCGCTGCCGACCAAACAATCCCAACTTTCCGGTTCTCGCCTAATG\n",
            "l4 has a sequence AACCGAGTGGTAAGTAGCCCCATCGCCTGTTCTTTCCAGTACGGGACCCATCACATTTTGGGTGGCAGTACGTGCTGCCCGCAGACAGTCGAAAAATACCTCAAGCCCGCACTTATTACAACCCAACGCAGCTATCGGGCTTTCTGGAAGTTCGCCCGAAGTTCAGCTGCCGACCAATGCTATACAACTAATCTTCGACACGACCCATTTAGCATCTACGGGCTATCGAAGAGCCTTCCCTTCAGACGTTAAGCCAACACGTCGAAGGCATTACATTGTGGAACCATGCCCACATATCAACTTCGCCGTAGGCAGACATGAGATATCTAGCCCTACGGAAAGAGTCTTAGGGAGCAATGCCGCCCTAGGTCTATGCCCATATCATACAAGCTTGATGTTAGGTTCTCTCTGCCTTGCTTCCCCGCGATCCAGCCTCTTCTGGTCCTATGCCGGATATACAAATAACTTTATATTAGATTATTACCTATGTAAGGCGCTCAATGATATTCGAAGGATTAAGGCAGTCTAGTGAGTATGACACTGTCCCTGCAGTGTGCCACCCAACCTCGCGCCGGCCTTGTTAATCTTTCAGCTAGAGGTATTGACTTCCACCTGCTCTATAAGCATAACCCTGCTCTGGCTTGTCGGTGGGTGTTGCTTCGGTGATACGCACTGTCAACATGCCAGGATTTATTTTGGGGTTATGCTATAACCCCGTTCCAAACACGACTTGGGCCGGGTTTTTTACTAGATTTGACAGTTCGACATTTTGCCCTCCTTATCCCATATCTCGTAATTTAAGTGACTATCTTGTAACGGTGACCGTAATTACACGAACCCGGTGAGCAACTCCGACTAAGATAATGATAGTCAGTAACTATTGGCAGTAAGGAGTCCTACAATATCGTTCTCTAAACGCCGGTGGACAGTGATCAGGCACAAGCGTCGCGAGGATGCGCTGCCGACCAAACAATCCGAACTTTCCGGTTCTCGCCTGATG\n",
            "h2 has a sequence \n",
            "l5 has a sequence AACCGAGTGGTAAGTAGCCCCATCGCCTGTTCTTTCCAGTACGGGACCCATCACATTTTGGGTGGCAGTACGTGCTGCCCGCAGACAGTCGAAAAATACCTCAAGCCCGCACTTATTACCACCCAACACATCTATCCGGCTTTCTGGAAGTTCGCCCGAAGTTCAGCTGCCGACCAATGCTATACAACTAATCTTCGACACGACCCATTTAGTATCTACGGGCCATCGAAGAGCCTTCCCTTCAGACGTAAAGCCAACACGTCGAAGGCATTACATGGTGGAACCATGCCCACATATCAACTTCGCCGTAGGCAGACATGAGATATCTAGCCCTACGGAAAGAGTCTTAGGGAGCAATGCCGCCCTAGGTCTATGCCCATATCATACAAGCTTGATGTTGGGTTCTCTCTGCCTTGCTTCCCCGCGATCCAGCCTATTCTGGTCCTATGCCGGATATACAAATAACTTTATATTAGATTATTACCTATTTAAGGCGCTCAATGATATTCGAAGGCTTAAGGCAGTCTAGTGAGTATGACACTGTCCCTGCAGTGTGCCACCCAACCTCGCGCCGGCCTTGTAAATCTTTCAGCTAGAGGTATTGACTTCCACCTGCTCTATAAGCATAACCCTGCTCTGGCTTGTCGGTGGGTGTTGCTTCGGTGATACGCACTGTCAACATGCCAGGATTTATTTTGGGGTTATTCTATAACCCCGTTCCAACCACGACTTGGGCCGGGCTTTTTACTAGATTTGACAGTTCGACATTTTGCCCTCCTTATCCCATATCTCTTAATTTAAGTGACTATCTTGTAACGGTGACCGTAATTACACGAACCCGGCGAGCAACTCCGACTAAGATAATGATAGTCAGTAACTATTGGCAGTAAGGAGTCCTACAATATCGTTCTCTAAACGCCGTTGGACAGTGATCAGGCACAAGCGTCGCGAGGATCCGCTGCCGACCAAACAATCCGAACTTTCCGGTTCTCGCCTGATG\n",
            "h3 has a sequence \n",
            "h4 has a sequence \n"
          ]
        }
      ]
    },
    {
      "cell_type": "code",
      "source": [
        "T.sankOff(W)"
      ],
      "metadata": {
        "id": "lr3YhIO7aAuR"
      },
      "execution_count": null,
      "outputs": []
    },
    {
      "cell_type": "code",
      "source": [
        "for v in T.vertex_map.values():\n",
        "  print (f'{v.name} has a sequence {v.base_pair}')\n"
      ],
      "metadata": {
        "id": "7DAyuU51a9NE",
        "colab": {
          "base_uri": "https://localhost:8080/"
        },
        "outputId": "63422443-40f9-4b63-c149-92ba098bac13"
      },
      "execution_count": null,
      "outputs": [
        {
          "output_type": "stream",
          "name": "stdout",
          "text": [
            "l1 has a sequence AACCGATTAGTAAGGAGCCCCATCGCCTGTTCTTACCAGTACGGGACCCATCACATTTTGGGTGGCGGTACGTGCTGCCCGCAGACAGTCGAAAAATACGTCAAGCCTGCAATTATTACAACCCAACACGGCTATCGGGCTTTCTGGAAGTTCGCCCGAAGTTGAAGTGCCGACCTTTGCTATACAACTAATCTTCGCCACGACCCATTTAGCATCTACGGGCCATCGAAGAGCCTACCCTTCAGACGTAAAACCAACACGTCGAAGGCATTACATTGTGCAACCATGCCCACATATCAACTTCGCCGTAGGCAGACATGAGATATCTAGCCCTACGGAAAGAGTCTTCGGGAGCAATGCCGCCCTAGGTCTATGCCCATATCATACAAGCTTGATGTTGGGTTCGCTCTGCCTTGCTTCCCCGCGATCCAGCCACTTCTGGTCCTATGCCGGATATACAAATAACTTTATATTAGATTATTACCTACTTAAGGCGGTCAAGGATTTTCGAAGGAATAAGGCAGTCTATTGAGTATGACACTGTCCTTGCAGTGTGCCACCCAACCTCGCTCCGGCCTTGTTAATCTTTCAGCTAGAGATATCGACTTCCACCTGCTCTATAAACATAACCCTGCTCTGGCTTGTCGGTGGGCGTTGCTTCGCTGCTACGAACTGTCAACATGCCAGGATTTATTTTGGGGTGATGCTATAACCCCGTTCCAAACACGACTTGGGCCGGTTTTTTTACTAGATTTGACACTAGGACATTTTGCCCTCCTTTTCCCATATCTCGTAAGTTAAGGGACTAGCTTCTAACGATTACCGTAATAACACGAACCCGGCGAGCAACTCCGCCTAAGATAATCAAAATGAGGAACTATTGGCAGTAAGGAGTCCTTCAATATCGTTCTTTAAACGTGGGTGGACAGTTATCAGGCACGAGCGTCGCGAGGATGTGCTGACGACCAAACAATTTCAACTTTCCGGTTCTCGCCTAATG\n",
            "l2 has a sequence AACCGAGTGGTAAGGAGCCCCATCGCCTGTTCTTACGAGTACGGGACCCATCACATTTTGGGTGGCGGTACGTGCTGCCCGCAGACAGTCGAAAAATACGTCAAGCCTGCAATTATTACAACCCAACACGGCTATCGGGCTTGCTGGAAGTTCGCCCGAAGTTGAGGTGCCGACCTTTGCTATACAACTAATCTTCGCCACGACCCATTTAGCATCTACGGGCCATCGAAGAGCCTACCCTTCAGACGTAAAACCAACACGTCGAAGGCATTACATTGTGCAACCATGCCCACATATCAACTTCGCCGTAGGCAGACATGAGATATCTAGCCCTACGGAAAGAGTCTTAGGGAGCAATGCCGCCCTAGGTCTATGCCCATATCATACAAGCTTGAGGTTGGGTTCGCTCTGCCTTGCTTCCCCGCGATCCAGCCACTTCTGGTCCTATGCCGGATATACAAATAACTTTATATTAGATTATTACCTACTTAAGGCGGTCAAGGATATTCGAAGGATTAAGGCAGTCTATTGAGTATGACACTGTCCTTGCAGTGTGCCACCCAACCTCGCTCCGGCCTTGTTAATATTTCAGCTAGAGGTATCGACTTCCACCTGCTCTATAAGCATAACCCTGCTCTGGCTTGTCGGTGGGCGTTGCTTCGCTGCTACGAACTGTCAACATGCCAGGATTTATTTTGGGGTGATGCTATATCCCCGTTCCAAACACGACTTGGGCCGGTTTTTTTACTAGATTTGACACTAGGACATTTTGCCCTCCTTATCCCATATCTCGTAATTTAAGGGACTAGCTTCTAACGATTACCGTAATAACACGAACCCGGCGAGCAACTCCGCCTAAAATAATCATAATGAGTAACTATTGGCAGTAAGGAGTCCTTCAATAGCGTTCTCTAAACGTGGGTGGACAGTGATCAGGCACGAGCGTCGCGAGGATGTGCTGACGACCATACAATTTCAACTTTCCGGTTCTCGCCTAATG\n",
            "h1 has a sequence AACCGAGTGGTAAGGAGCCCCATCGCCTGTTCTTACCAGTACGGGACCCATCACATTTTGGGTGGCGGTACGTGCTGCCCGCAGACAGTCGAAAAATACGTCAAGCCTGCAATTATTACAACCCAACACGGCTATCGGGCTTTCTGGAAGTTCGCCCGAAGTTGAGGTGCCGACCTTTGCTATACAACTAATCTTCGCCACGACCCATTTAGCATCTACGGGCCATCGAAGAGCCTACCCTTCAGACGTAAAACCAACACGTCGAAGGCATTACATTGTGCAACCATGCCCACATATCAACTTCGCCGTAGGCAGACATGAGATATCTAGCCCTACGGAAAGAGTCTTAGGGAGCAATGCCGCCCTAGGTCTATGCCCATATCATACAAGCTTGATGTTGGGTTCGCTCTGCCTTGCTTCCCCGCGATCCAGCCACTTCTGGTCCTATGCCGGATATACAAATAACTTTATATTAGATTATTACCTACTTAAGGCGGTCAAGGATATTCGAAGGATTAAGGCAGTCTATTGAGTATGACACTGTCCTTGCAGTGTGCCACCCAACCTCGCTCCGGCCTTGTTAATCTTTCAGCTAGAGGTATCGACTTCCACCTGCTCTATAAGCATAACCCTGCTCTGGCTTGTCGGTGGGCGTTGCTTCGCTGCTACGAACTGTCAACATGCCAGGATTTATTTTGGGGTGATGCTATAACCCCGTTCCAAACACGACTTGGGCCGGTTTTTTTACTAGATTTGACACTAGGACATTTTGCCCTCCTTATCCCATATCTCGTAATTTAAGGGACTAGCTTCTAACGATTACCGTAATAACACGAACCCGGCGAGCAACTCCGCCTAAGATAATCATAATGAGTAACTATTGGCAGTAAGGAGTCCTTCAATATCGTTCTCTAAACGTGGGTGGACAGTGATCAGGCACGAGCGTCGCGAGGATGTGCTGACGACCAAACAATTTCAACTTTCCGGTTCTCGCCTAATG\n",
            "l3 has a sequence AACCGAGTGGTAAGTAGCCCCATCGCCAGTTCTTTCCAGTACGGGACGCATCACATTTTGGGTGGCAGTACGTGCTGCCCGCAGACAATCGAAAAATACCTCAAGCCCGCTCTCATTACAACCCAACACAGCTATCGGGCTTTCTGGAAGTTCGCCCGAAGTTCAGGTGCCGACCAATGCTATACAACTAATCTTCGACACGACCCATCGAGCATCTACGGACCATAGAAGAGCCTTCCCTTCAGACGTAAAGCCAACACGTCGAAGGCATTACATTGTGGAACCATGCCCACATATCAACTTCGCCGTAGGCAGACATGAGATATCTAGCCCTACGGTAAGAGTCTTAGGGAGCAATGCCGCCCTAGGTCTATGCCCATATCATACAAGCTTGATGTTGGGTTCTATCTGCCTTGCTTCCCCGCGATGCATCCACTTCTGGTCCTATGCCGGATATACAAATAACTTTATATTAGATTATTACCTACTTAAGGCGGTCAAGGATATTCGAAGGATTAAGGCAGTCTAGTGAGTATGACACTGTCCCTGCAGTGTGCCACCCAACCTCGCGCCGGCCTTGTTAATCTTTCAGCGAGTAGTATTGACTTCCACCTGCTCTATAAGCATAACCCTGCTCTGGCTTGTCGGTGGGTGTTGCTTCGGTGATACGAACTGTCAACATGCCAGGATTTATTTTGGGGTTATGCTATAACCCCGTTCCAAACACGACTTGGGCCGGGTTTTTCACTAGATTAGACACTTCGACATTTTGCCCTCCTTATCCCATATCTCGTAATTTAAGGGACTAGCTTCTAACGGTTACCCTAATTACACGAAGCCGGCGAGCAACTCCGACTAAGATAATCATAGTCGGTAACTATTGGCAGTAAGGAGTCCTACAATATCGTTCTCTAAACGCCGGTGGACAGTGATCAGGCACGAGCGTCGCGAGGATGCGCTGCCGACCAAACAATCCCAACTTTCCGGTTCTCGCCTAATG\n",
            "l4 has a sequence AACCGAGTGGTAAGTAGCCCCATCGCCTGTTCTTTCCAGTACGGGACCCATCACATTTTGGGTGGCAGTACGTGCTGCCCGCAGACAGTCGAAAAATACCTCAAGCCCGCACTTATTACAACCCAACGCAGCTATCGGGCTTTCTGGAAGTTCGCCCGAAGTTCAGCTGCCGACCAATGCTATACAACTAATCTTCGACACGACCCATTTAGCATCTACGGGCTATCGAAGAGCCTTCCCTTCAGACGTTAAGCCAACACGTCGAAGGCATTACATTGTGGAACCATGCCCACATATCAACTTCGCCGTAGGCAGACATGAGATATCTAGCCCTACGGAAAGAGTCTTAGGGAGCAATGCCGCCCTAGGTCTATGCCCATATCATACAAGCTTGATGTTAGGTTCTCTCTGCCTTGCTTCCCCGCGATCCAGCCTCTTCTGGTCCTATGCCGGATATACAAATAACTTTATATTAGATTATTACCTATGTAAGGCGCTCAATGATATTCGAAGGATTAAGGCAGTCTAGTGAGTATGACACTGTCCCTGCAGTGTGCCACCCAACCTCGCGCCGGCCTTGTTAATCTTTCAGCTAGAGGTATTGACTTCCACCTGCTCTATAAGCATAACCCTGCTCTGGCTTGTCGGTGGGTGTTGCTTCGGTGATACGCACTGTCAACATGCCAGGATTTATTTTGGGGTTATGCTATAACCCCGTTCCAAACACGACTTGGGCCGGGTTTTTTACTAGATTTGACAGTTCGACATTTTGCCCTCCTTATCCCATATCTCGTAATTTAAGTGACTATCTTGTAACGGTGACCGTAATTACACGAACCCGGTGAGCAACTCCGACTAAGATAATGATAGTCAGTAACTATTGGCAGTAAGGAGTCCTACAATATCGTTCTCTAAACGCCGGTGGACAGTGATCAGGCACAAGCGTCGCGAGGATGCGCTGCCGACCAAACAATCCGAACTTTCCGGTTCTCGCCTGATG\n",
            "h2 has a sequence AACCGAGTGGTAAGTAGCCCCATCGCCTGTTCTTTCCAGTACGGGACCCATCACATTTTGGGTGGCAGTACGTGCTGCCCGCAGACAGTCGAAAAATACCTCAAGCCCGCACTTATTACAACCCAACACAGCTATCGGGCTTTCTGGAAGTTCGCCCGAAGTTCAGCTGCCGACCAATGCTATACAACTAATCTTCGACACGACCCATTTAGCATCTACGGGCCATCGAAGAGCCTTCCCTTCAGACGTAAAGCCAACACGTCGAAGGCATTACATTGTGGAACCATGCCCACATATCAACTTCGCCGTAGGCAGACATGAGATATCTAGCCCTACGGAAAGAGTCTTAGGGAGCAATGCCGCCCTAGGTCTATGCCCATATCATACAAGCTTGATGTTGGGTTCTCTCTGCCTTGCTTCCCCGCGATCCAGCCACTTCTGGTCCTATGCCGGATATACAAATAACTTTATATTAGATTATTACCTACTTAAGGCGCTCAAGGATATTCGAAGGATTAAGGCAGTCTAGTGAGTATGACACTGTCCCTGCAGTGTGCCACCCAACCTCGCGCCGGCCTTGTTAATCTTTCAGCTAGAGGTATTGACTTCCACCTGCTCTATAAGCATAACCCTGCTCTGGCTTGTCGGTGGGTGTTGCTTCGGTGATACGAACTGTCAACATGCCAGGATTTATTTTGGGGTTATGCTATAACCCCGTTCCAAACACGACTTGGGCCGGGTTTTTTACTAGATTTGACACTTCGACATTTTGCCCTCCTTATCCCATATCTCGTAATTTAAGGGACTAGCTTCTAACGGTGACCGTAATTACACGAACCCGGCGAGCAACTCCGACTAAGATAATCATAGTCAGTAACTATTGGCAGTAAGGAGTCCTACAATATCGTTCTCTAAACGCCGGTGGACAGTGATCAGGCACAAGCGTCGCGAGGATGCGCTGCCGACCAAACAATCCCAACTTTCCGGTTCTCGCCTAATG\n",
            "l5 has a sequence AACCGAGTGGTAAGTAGCCCCATCGCCTGTTCTTTCCAGTACGGGACCCATCACATTTTGGGTGGCAGTACGTGCTGCCCGCAGACAGTCGAAAAATACCTCAAGCCCGCACTTATTACCACCCAACACATCTATCCGGCTTTCTGGAAGTTCGCCCGAAGTTCAGCTGCCGACCAATGCTATACAACTAATCTTCGACACGACCCATTTAGTATCTACGGGCCATCGAAGAGCCTTCCCTTCAGACGTAAAGCCAACACGTCGAAGGCATTACATGGTGGAACCATGCCCACATATCAACTTCGCCGTAGGCAGACATGAGATATCTAGCCCTACGGAAAGAGTCTTAGGGAGCAATGCCGCCCTAGGTCTATGCCCATATCATACAAGCTTGATGTTGGGTTCTCTCTGCCTTGCTTCCCCGCGATCCAGCCTATTCTGGTCCTATGCCGGATATACAAATAACTTTATATTAGATTATTACCTATTTAAGGCGCTCAATGATATTCGAAGGCTTAAGGCAGTCTAGTGAGTATGACACTGTCCCTGCAGTGTGCCACCCAACCTCGCGCCGGCCTTGTAAATCTTTCAGCTAGAGGTATTGACTTCCACCTGCTCTATAAGCATAACCCTGCTCTGGCTTGTCGGTGGGTGTTGCTTCGGTGATACGCACTGTCAACATGCCAGGATTTATTTTGGGGTTATTCTATAACCCCGTTCCAACCACGACTTGGGCCGGGCTTTTTACTAGATTTGACAGTTCGACATTTTGCCCTCCTTATCCCATATCTCTTAATTTAAGTGACTATCTTGTAACGGTGACCGTAATTACACGAACCCGGCGAGCAACTCCGACTAAGATAATGATAGTCAGTAACTATTGGCAGTAAGGAGTCCTACAATATCGTTCTCTAAACGCCGTTGGACAGTGATCAGGCACAAGCGTCGCGAGGATCCGCTGCCGACCAAACAATCCGAACTTTCCGGTTCTCGCCTGATG\n",
            "h3 has a sequence AACCGAGTGGTAAGTAGCCCCATCGCCTGTTCTTTCCAGTACGGGACCCATCACATTTTGGGTGGCAGTACGTGCTGCCCGCAGACAGTCGAAAAATACCTCAAGCCCGCACTTATTACAACCCAACACAGCTATCGGGCTTTCTGGAAGTTCGCCCGAAGTTCAGCTGCCGACCAATGCTATACAACTAATCTTCGACACGACCCATTTAGCATCTACGGGCCATCGAAGAGCCTTCCCTTCAGACGTAAAGCCAACACGTCGAAGGCATTACATTGTGGAACCATGCCCACATATCAACTTCGCCGTAGGCAGACATGAGATATCTAGCCCTACGGAAAGAGTCTTAGGGAGCAATGCCGCCCTAGGTCTATGCCCATATCATACAAGCTTGATGTTGGGTTCTCTCTGCCTTGCTTCCCCGCGATCCAGCCACTTCTGGTCCTATGCCGGATATACAAATAACTTTATATTAGATTATTACCTACTTAAGGCGCTCAAGGATATTCGAAGGATTAAGGCAGTCTAGTGAGTATGACACTGTCCCTGCAGTGTGCCACCCAACCTCGCGCCGGCCTTGTTAATCTTTCAGCTAGAGGTATTGACTTCCACCTGCTCTATAAGCATAACCCTGCTCTGGCTTGTCGGTGGGTGTTGCTTCGGTGATACGAACTGTCAACATGCCAGGATTTATTTTGGGGTTATGCTATAACCCCGTTCCAAACACGACTTGGGCCGGGTTTTTTACTAGATTTGACACTTCGACATTTTGCCCTCCTTATCCCATATCTCGTAATTTAAGGGACTAGCTTCTAACGGTGACCGTAATTACACGAACCCGGCGAGCAACTCCGACTAAGATAATCATAGTCAGTAACTATTGGCAGTAAGGAGTCCTACAATATCGTTCTCTAAACGCCGGTGGACAGTGATCAGGCACAAGCGTCGCGAGGATGCGCTGCCGACCAAACAATCCCAACTTTCCGGTTCTCGCCTAATG\n",
            "h4 has a sequence AACCGAGTGGTAAGGAGCCCCATCGCCTGTTCTTACCAGTACGGGACCCATCACATTTTGGGTGGCAGTACGTGCTGCCCGCAGACAGTCGAAAAATACCTCAAGCCCGCAATTATTACAACCCAACACAGCTATCGGGCTTTCTGGAAGTTCGCCCGAAGTTCAGCTGCCGACCAATGCTATACAACTAATCTTCGACACGACCCATTTAGCATCTACGGGCCATCGAAGAGCCTACCCTTCAGACGTAAAACCAACACGTCGAAGGCATTACATTGTGCAACCATGCCCACATATCAACTTCGCCGTAGGCAGACATGAGATATCTAGCCCTACGGAAAGAGTCTTAGGGAGCAATGCCGCCCTAGGTCTATGCCCATATCATACAAGCTTGATGTTGGGTTCGCTCTGCCTTGCTTCCCCGCGATCCAGCCACTTCTGGTCCTATGCCGGATATACAAATAACTTTATATTAGATTATTACCTACTTAAGGCGCTCAAGGATATTCGAAGGATTAAGGCAGTCTAGTGAGTATGACACTGTCCCTGCAGTGTGCCACCCAACCTCGCGCCGGCCTTGTTAATCTTTCAGCTAGAGGTATCGACTTCCACCTGCTCTATAAGCATAACCCTGCTCTGGCTTGTCGGTGGGCGTTGCTTCGCTGATACGAACTGTCAACATGCCAGGATTTATTTTGGGGTGATGCTATAACCCCGTTCCAAACACGACTTGGGCCGGGTTTTTTACTAGATTTGACACTACGACATTTTGCCCTCCTTATCCCATATCTCGTAATTTAAGGGACTAGCTTCTAACGATGACCGTAATAACACGAACCCGGCGAGCAACTCCGACTAAGATAATCATAATCAGTAACTATTGGCAGTAAGGAGTCCTACAATATCGTTCTCTAAACGCCGGTGGACAGTGATCAGGCACAAGCGTCGCGAGGATGCGCTGACGACCAAACAATCCCAACTTTCCGGTTCTCGCCTAATG\n"
          ]
        }
      ]
    },
    {
      "cell_type": "code",
      "source": [
        "print(f'Number of parsimony informative sites: {T.Num_informative()}')"
      ],
      "metadata": {
        "id": "RyR4kXhfwFh4",
        "outputId": "46cd4e35-9cb6-4337-a73c-d9cfe9da2c3d",
        "colab": {
          "base_uri": "https://localhost:8080/"
        }
      },
      "execution_count": null,
      "outputs": [
        {
          "output_type": "stream",
          "name": "stdout",
          "text": [
            "Number of parsimony informative sites: 53\n"
          ]
        }
      ]
    },
    {
      "cell_type": "markdown",
      "source": [
        "## b) (5 points) What is the parsimony score for $T$?\n",
        "\n"
      ],
      "metadata": {
        "id": "n_4pO0xt0Ck9"
      }
    },
    {
      "cell_type": "code",
      "source": [
        "print(f'The parsimony score for T is {T.total_parsimony}')"
      ],
      "metadata": {
        "id": "20HO95MHnFm_",
        "colab": {
          "base_uri": "https://localhost:8080/"
        },
        "outputId": "179680e2-b366-4d0a-fb31-68ee026d8e87"
      },
      "execution_count": null,
      "outputs": [
        {
          "output_type": "stream",
          "name": "stdout",
          "text": [
            "The parsimony score for T is 224\n"
          ]
        }
      ]
    },
    {
      "cell_type": "markdown",
      "source": [
        "## c) (5 points) What is an ancestral sequence at the root?"
      ],
      "metadata": {
        "id": "Lx_JuUQr0DuZ"
      }
    },
    {
      "cell_type": "code",
      "source": [
        "print(f'The ancestral sequence at root is {T.Get_root().base_pair}')"
      ],
      "metadata": {
        "colab": {
          "base_uri": "https://localhost:8080/"
        },
        "id": "6Oa_guJM0EFf",
        "outputId": "3ec072e7-862e-4daa-8d35-e1545212150b"
      },
      "execution_count": null,
      "outputs": [
        {
          "output_type": "stream",
          "name": "stdout",
          "text": [
            "The ancestral sequence at root is AACCGAGTGGTAAGGAGCCCCATCGCCTGTTCTTACCAGTACGGGACCCATCACATTTTGGGTGGCAGTACGTGCTGCCCGCAGACAGTCGAAAAATACCTCAAGCCCGCAATTATTACAACCCAACACAGCTATCGGGCTTTCTGGAAGTTCGCCCGAAGTTCAGCTGCCGACCAATGCTATACAACTAATCTTCGACACGACCCATTTAGCATCTACGGGCCATCGAAGAGCCTACCCTTCAGACGTAAAACCAACACGTCGAAGGCATTACATTGTGCAACCATGCCCACATATCAACTTCGCCGTAGGCAGACATGAGATATCTAGCCCTACGGAAAGAGTCTTAGGGAGCAATGCCGCCCTAGGTCTATGCCCATATCATACAAGCTTGATGTTGGGTTCGCTCTGCCTTGCTTCCCCGCGATCCAGCCACTTCTGGTCCTATGCCGGATATACAAATAACTTTATATTAGATTATTACCTACTTAAGGCGCTCAAGGATATTCGAAGGATTAAGGCAGTCTAGTGAGTATGACACTGTCCCTGCAGTGTGCCACCCAACCTCGCGCCGGCCTTGTTAATCTTTCAGCTAGAGGTATCGACTTCCACCTGCTCTATAAGCATAACCCTGCTCTGGCTTGTCGGTGGGCGTTGCTTCGCTGATACGAACTGTCAACATGCCAGGATTTATTTTGGGGTGATGCTATAACCCCGTTCCAAACACGACTTGGGCCGGGTTTTTTACTAGATTTGACACTACGACATTTTGCCCTCCTTATCCCATATCTCGTAATTTAAGGGACTAGCTTCTAACGATGACCGTAATAACACGAACCCGGCGAGCAACTCCGACTAAGATAATCATAATCAGTAACTATTGGCAGTAAGGAGTCCTACAATATCGTTCTCTAAACGCCGGTGGACAGTGATCAGGCACAAGCGTCGCGAGGATGCGCTGACGACCAAACAATCCCAACTTTCCGGTTCTCGCCTAATG\n"
          ]
        }
      ]
    }
  ]
}