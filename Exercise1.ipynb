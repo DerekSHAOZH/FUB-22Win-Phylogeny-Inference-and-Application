{
  "nbformat": 4,
  "nbformat_minor": 0,
  "metadata": {
    "colab": {
      "provenance": [],
      "collapsed_sections": [],
      "include_colab_link": true
    },
    "kernelspec": {
      "name": "python3",
      "display_name": "Python 3"
    },
    "language_info": {
      "name": "python"
    }
  },
  "cells": [
    {
      "cell_type": "markdown",
      "metadata": {
        "id": "view-in-github",
        "colab_type": "text"
      },
      "source": [
        "<a href=\"https://colab.research.google.com/github/DerekSHAOZH/FUB-22Win-Phylogeny-Inference-and-Application/blob/main/Exercise1.ipynb\" target=\"_parent\"><img src=\"https://colab.research.google.com/assets/colab-badge.svg\" alt=\"Open In Colab\"/></a>"
      ]
    },
    {
      "cell_type": "markdown",
      "metadata": {
        "id": "McUHXnWOsrsW"
      },
      "source": [
        "### **Problem 1**: 50 Points\n",
        "\n",
        "#### A) (5 P) Write two classes: class Vertex and class Tree, that can be used as data structures to represent trees.\n",
        "\n",
        "Add appropriate attributes to each class. For example, \"name\", \"degree\", \"parent\", \"children\", ... for the vertex class and \"nodes\", \"root\", ... for the tree class.\n",
        "\n",
        "These classes will be the basis of the current and future exercises. In general, you have the freedom to implement the functions the way you see fit. Just keep in mind that you will use this class in each week and will have to continuously add functions (and also attributes) for the exercises.\n",
        "\n",
        "#### B) (15 P) Add following functions to your class \"Tree\":\n",
        "\n",
        "* AddVertex(self, vertex): Adds a vertex to your tree. It's up to you whether you want to use strings that contain the vertex name(s) or an object of the class vertex as input for the functions\n",
        "* AddEdge(self, parent_vertex, child_vertex, distance): Which adds a directed, weighted edge from the parent to the child. It's up to you whether you want to use strings that contain the vertex name(s) or an object of the class vertex as input for the functions.\n",
        "* ReadNewickFile(self,file_name): Read in a file containing a newick formatted string \n",
        "\n",
        "\n",
        "#### C) (10 P) Build following tree using your data structure: Directed edges = $\\{(h_1, l_1), (h_1, l_2), (h_3, h_1), (h_3, l_3), (h_2, l_4), (h_2, l_5), (h_4, h_3), (h_4, h_2)\\}$ and branch lengths = $(0.1, 0.3, 0.1, 0.5, 0.2, 0.2, 0.6, 0.3)$. Print the name of each vertex and its respective degree, in-degree and out-degree. Which vertex is the root?\n",
        "\n",
        "#### D) (10 P) Add the function to your tree class ComputeNewickFormat(self) to generate a string that represents the current tree structure in the newick format. Use your function to generate the newick presentation for the tree build using the directed edges in C and print the generated string.\n",
        "\n",
        "####E) (10 P) Add a function to your tree class ReadNewickFile(self, newickFile) that builds the tree given a newick file. Use this function to read the file named **tree.nwk**. Print the in-degree and out-degree of each vertex.\n",
        "\n",
        "_Hint: You may want to use regular expressions to identify siblings, and replace siblings with a hidden vertex._\n",
        "\n",
        "**Don't forget to comment your code!**\n",
        "\n"
      ]
    },
    {
      "cell_type": "code",
      "metadata": {
        "id": "DNyj0QzBsTyi"
      },
      "source": [
        "import re\n",
        "# 1 A and B class definitions and functions\n",
        "class Vertex:\n",
        "  def __init__(self,name): \n",
        "    self.name = name\n",
        "    self.in_degree = 0\n",
        "    self.out_degree = 0\n",
        "    self.parent = self\n",
        "    self.children = []\n",
        "    self.neighbors = []\n",
        "    self.newick_label = \"\"\n",
        "\n",
        "class Tree:\n",
        "  def __init__(self,name):\n",
        "    self.name = name\n",
        "    self.vertex_map = {}\n",
        "    self.leaf_list = []\n",
        "    self.pre_order_list = []\n",
        "    self.post_order_list = []\n",
        "    self.edge_list_map = {}\n",
        "    self.root = -1\n",
        "  def Add_vertex(self,name):    \n",
        "    v = Vertex(name)\n",
        "    self.vertex_map[name] = v  \n",
        "  def Contains_vertex(self,name):\n",
        "    return (name in self.vertex_map.keys())\n",
        "  def Get_vertex(self,name):\n",
        "    if name in self.vertex_map.keys():\n",
        "      return (self.vertex_map[name])\n",
        "  def Add_directed_edge(self, parent_name, child_name, distance):    \n",
        "    if parent_name not in self.vertex_map.keys():\n",
        "      self.Add_vertex(parent_name)\n",
        "    if child_name not in self.vertex_map.keys():\n",
        "      self.Add_vertex(child_name)\n",
        "    p = self.Get_vertex(parent_name)\n",
        "    c = self.Get_vertex(child_name)\n",
        "    p.out_degree += 1\n",
        "    c.in_degree += 1\n",
        "    c.parent = p\n",
        "    p.children.append(c)\n",
        "    self.edge_list_map[(p,c)] = distance\n",
        "  def Get_edge_length(self, parent, child):\n",
        "    return (self.edge_list_map[(parent, child)])\n",
        "  def Set_root(self):\n",
        "    for vertex in self.vertex_map.values():\n",
        "      if vertex.in_degree == 0:\n",
        "        self.root = vertex\n",
        "  def Get_root(self):\n",
        "    if self.root == -1:\n",
        "      self.Set_root()\n",
        "    return (self.root)\n",
        "  def Set_post_order(self):\n",
        "    self.post_order_list = [self.root]\n",
        "    vertices_to_visit = [self.root]\n",
        "    while len(vertices_to_visit) > 0:\n",
        "      v = vertices_to_visit.pop()\n",
        "      vertices_to_visit += v.children      \n",
        "      self.post_order_list = v.children + self.post_order_list\n",
        "  def Compute_newick_format(self):\n",
        "    if len(self.post_order_list) != len(self.vertex_map):\n",
        "      self.Set_post_order()\n",
        "    for v in self.post_order_list:\n",
        "      if v.out_degree == 0:\n",
        "        v.newick_label = v.name\n",
        "      else:        \n",
        "        c_l = v.children[0]\n",
        "        c_r = v.children[1]        \n",
        "        len_l = self.Get_edge_length(v,c_l)\n",
        "        len_r = self.Get_edge_length(v,c_r)\n",
        "        v.newick_label = f'({c_l.newick_label}:{len_l},{c_r.newick_label}:{len_r})'\n",
        "    self.root.newick_label += \";\"\n",
        "    return(self.root.newick_label)    \n",
        "  def Read_newick_string(self, newick_string):    \n",
        "    rx = r'\\([^()]+\\)'\n",
        "    hidden_vertex_ind = 1\n",
        "    while \"(\" in newick_string:                  \n",
        "      # search for the parenthesis\n",
        "      m = re.search(rx,newick_string)\n",
        "      # returns a tuple containing all the subgroups of the match \"()\"\n",
        "      string_match = m.group()            \n",
        "      # remove ( and )\n",
        "      siblings_string = string_match[1:-1]\n",
        "      c_left_name_and_length, c_right_name_and_length = siblings_string.split(\",\")\n",
        "      c_left_name, c_left_length = c_left_name_and_length.split(\":\")\n",
        "      c_right_name, c_right_length = c_right_name_and_length.split(\":\")\n",
        "      if not self.Contains_vertex(c_left_name):\n",
        "          self.Add_vertex(c_left_name)\n",
        "      if not self.Contains_vertex(c_right_name):\n",
        "          self.Add_vertex(c_right_name)\n",
        "      hidden_vertex_name = \"h\" + str(hidden_vertex_ind)\n",
        "      self.Add_vertex(hidden_vertex_name)            \n",
        "      self.Add_directed_edge(hidden_vertex_name, c_left_name, float(c_left_length))\n",
        "      self.Add_directed_edge(hidden_vertex_name, c_right_name, float(c_right_length))\n",
        "      newick_string = newick_string.replace(string_match,hidden_vertex_name)\n",
        "      hidden_vertex_ind += 1 \n"
      ],
      "execution_count": null,
      "outputs": []
    },
    {
      "cell_type": "code",
      "metadata": {
        "id": "tLNpTRcrx3l1",
        "colab": {
          "base_uri": "https://localhost:8080/"
        },
        "outputId": "e27e039c-0afb-4f6d-8cee-d40aef2abe5b"
      },
      "source": [
        "# 1 C\n",
        "print(\"Degree distribution\")\n",
        "T = Tree(\"test\")\n",
        "T.Add_directed_edge(\"h1\",\"l1\",0.1)\n",
        "T.Add_directed_edge(\"h1\",\"l2\",0.3)\n",
        "T.Add_directed_edge(\"h3\",\"h1\",0.1)\n",
        "T.Add_directed_edge(\"h3\",\"l3\",0.5)\n",
        "T.Add_directed_edge(\"h2\",\"l4\",0.2)\n",
        "T.Add_directed_edge(\"h2\",\"l5\",0.2)\n",
        "T.Add_directed_edge(\"h4\",\"h3\",0.6)\n",
        "T.Add_directed_edge(\"h4\",\"h2\",0.3)\n",
        "for v in T.vertex_map.values():\n",
        "  print (f'vertex {v.name} has in-degree {v.in_degree} and out-degree {v.out_degree}')\n",
        "T.Set_root()\n",
        "print(\"\\n\")\n",
        "print (f'The root is {T.root.name}')"
      ],
      "execution_count": null,
      "outputs": [
        {
          "output_type": "stream",
          "name": "stdout",
          "text": [
            "Degree distribution\n",
            "vertex h1 has in-degree 1 and out-degree 2\n",
            "vertex l1 has in-degree 1 and out-degree 0\n",
            "vertex l2 has in-degree 1 and out-degree 0\n",
            "vertex h3 has in-degree 1 and out-degree 2\n",
            "vertex l3 has in-degree 1 and out-degree 0\n",
            "vertex h2 has in-degree 1 and out-degree 2\n",
            "vertex l4 has in-degree 1 and out-degree 0\n",
            "vertex l5 has in-degree 1 and out-degree 0\n",
            "vertex h4 has in-degree 0 and out-degree 2\n",
            "\n",
            "\n",
            "The root is h4\n"
          ]
        }
      ]
    },
    {
      "cell_type": "code",
      "source": [
        "# 1 D\n",
        "T.Compute_newick_format()\n"
      ],
      "metadata": {
        "id": "BIx6g5D47AOu",
        "colab": {
          "base_uri": "https://localhost:8080/",
          "height": 35
        },
        "outputId": "49717945-e659-45ee-c32b-225a5b444bd2"
      },
      "execution_count": null,
      "outputs": [
        {
          "output_type": "execute_result",
          "data": {
            "text/plain": [
              "'(((l1:0.1,l2:0.3):0.1,l3:0.5):0.6,(l4:0.2,l5:0.2):0.3);'"
            ],
            "application/vnd.google.colaboratory.intrinsic+json": {
              "type": "string"
            }
          },
          "metadata": {},
          "execution_count": 4
        }
      ]
    },
    {
      "cell_type": "code",
      "source": [
        "# 1 E\n",
        "T = Tree(\"T_2\")\n",
        "T.Read_newick_string('(((l1:0.1,l2:0.3):0.1,l3:0.5):0.6,(l4:0.2,l5:0.2):0.3);')\n",
        "\n",
        "for v in T.vertex_map.values():\n",
        "  print (f'vertex {v.name} has in-degree {v.in_degree} and out-degree {v.out_degree}')\n"
      ],
      "metadata": {
        "id": "x4YnGdfH7Cje",
        "colab": {
          "base_uri": "https://localhost:8080/"
        },
        "outputId": "2731dc63-e22f-48ba-ddbb-469cfbf698e0"
      },
      "execution_count": null,
      "outputs": [
        {
          "output_type": "stream",
          "name": "stdout",
          "text": [
            "vertex l1 has in-degree 1 and out-degree 0\n",
            "vertex l2 has in-degree 1 and out-degree 0\n",
            "vertex h1 has in-degree 1 and out-degree 2\n",
            "vertex l3 has in-degree 1 and out-degree 0\n",
            "vertex h2 has in-degree 1 and out-degree 2\n",
            "vertex l4 has in-degree 1 and out-degree 0\n",
            "vertex l5 has in-degree 1 and out-degree 0\n",
            "vertex h3 has in-degree 1 and out-degree 2\n",
            "vertex h4 has in-degree 0 and out-degree 2\n"
          ]
        }
      ]
    }
  ]
}